{
 "cells": [
  {
   "cell_type": "code",
   "execution_count": 1,
   "id": "1a582753",
   "metadata": {},
   "outputs": [],
   "source": [
    "import numpy as np\n",
    "import pandas as pd"
   ]
  },
  {
   "cell_type": "code",
   "execution_count": 2,
   "id": "e07af044",
   "metadata": {},
   "outputs": [
    {
     "name": "stderr",
     "output_type": "stream",
     "text": [
      "C:\\Users\\RenatoCiz\\AppData\\Local\\Temp\\ipykernel_23548\\753166658.py:1: DtypeWarning: Columns (7,10,18,19,20,21,23,30,31,32,33) have mixed types. Specify dtype option on import or set low_memory=False.\n",
      "  initial_data = pd.read_csv('./U.S._Chronic_Disease_Indicators.csv')\n"
     ]
    }
   ],
   "source": [
    "initial_data = pd.read_csv('./U.S._Chronic_Disease_Indicators.csv')"
   ]
  },
  {
   "cell_type": "code",
   "execution_count": 3,
   "id": "d92471b9",
   "metadata": {},
   "outputs": [
    {
     "name": "stdout",
     "output_type": "stream",
     "text": [
      "YearStart - 0\n",
      "YearEnd - 0\n",
      "LocationAbbr - 0\n",
      "LocationDesc - 0\n",
      "DataSource - 0\n",
      "Topic - 0\n",
      "Question - 0\n",
      "Response - 324661\n",
      "DataValueUnit - 29865\n",
      "DataValueType - 0\n",
      "DataValue - 106167\n",
      "DataValueAlt - 130318\n",
      "DataValueFootnoteSymbol - 215965\n",
      "DatavalueFootnote - 216131\n",
      "LowConfidenceLimit - 157165\n",
      "HighConfidenceLimit - 157165\n",
      "StratificationCategory1 - 0\n",
      "Stratification1 - 0\n",
      "StratificationCategory2 - 324661\n",
      "Stratification2 - 324661\n",
      "StratificationCategory3 - 324661\n",
      "Stratification3 - 324661\n",
      "GeoLocation - 2568\n",
      "ResponseID - 324661\n",
      "LocationID - 0\n",
      "TopicID - 0\n",
      "QuestionID - 0\n",
      "DataValueTypeID - 0\n",
      "StratificationCategoryID1 - 0\n",
      "StratificationID1 - 0\n",
      "StratificationCategoryID2 - 324660\n",
      "StratificationID2 - 324660\n",
      "StratificationCategoryID3 - 324661\n",
      "StratificationID3 - 324661\n"
     ]
    }
   ],
   "source": [
    "#print(initial_data.columns)\n",
    "for col in initial_data.columns:\n",
    "    print(col, '-' , initial_data[col].isna().sum())"
   ]
  },
  {
   "cell_type": "code",
   "execution_count": null,
   "id": "9b802c86",
   "metadata": {},
   "outputs": [],
   "source": []
  }
 ],
 "metadata": {
  "kernelspec": {
   "display_name": "Python 3 (ipykernel)",
   "language": "python",
   "name": "python3"
  },
  "language_info": {
   "codemirror_mode": {
    "name": "ipython",
    "version": 3
   },
   "file_extension": ".py",
   "mimetype": "text/x-python",
   "name": "python",
   "nbconvert_exporter": "python",
   "pygments_lexer": "ipython3",
   "version": "3.9.12"
  }
 },
 "nbformat": 4,
 "nbformat_minor": 5
}
